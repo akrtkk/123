{
  "nbformat": 4,
  "nbformat_minor": 0,
  "metadata": {
    "colab": {
      "name": "Untitled0.ipynb",
      "provenance": [],
      "authorship_tag": "ABX9TyMhBZPJyQy2p0IX05thNa62"
    },
    "kernelspec": {
      "name": "python3",
      "display_name": "Python 3"
    },
    "language_info": {
      "name": "python"
    }
  },
  "cells": [
    {
      "cell_type": "code",
      "execution_count": 8,
      "metadata": {
        "colab": {
          "base_uri": "https://localhost:8080/"
        },
        "id": "Xl-773YqX6bx",
        "outputId": "698b4ab8-2933-4ea4-b250-bf0b942f2d89"
      },
      "outputs": [
        {
          "output_type": "stream",
          "name": "stdout",
          "text": [
            "taylor-y\n",
            "Why did the y\n",
            "cross the road\n"
          ]
        }
      ],
      "source": [
        "inut = input(\"What is your favorite animal-\")\n",
        "print (\"Why did the\",inut)\n",
        "print (\"cross the road\")"
      ]
    }
  ]
}